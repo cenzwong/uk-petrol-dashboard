{
 "cells": [
  {
   "cell_type": "code",
   "execution_count": 6,
   "id": "d64955ae",
   "metadata": {},
   "outputs": [
    {
     "name": "stdout",
     "output_type": "stream",
     "text": [
      "Download complete: ./data/shell/shell_fuel_prices_2025-04-14.json\n"
     ]
    }
   ],
   "source": [
    "import requests\n",
    "from datetime import date\n",
    "\n",
    "# Get today's date in YYYY-MM-DD format\n",
    "today_str = date.today().isoformat()\n",
    "\n",
    "# URL to download\n",
    "url = \"https://www.shell.co.uk/fuel-prices-data.html\"\n",
    "response = requests.get(url)\n",
    "\n",
    "# Create filename with today's date\n",
    "filename = f\"./data/shell/shell_fuel_prices_{today_str}.json\"\n",
    "\n",
    "# Write to file\n",
    "with open(filename, \"wb\") as file:\n",
    "    file.write(response.content)\n",
    "\n",
    "print(f\"Download complete: {filename}\")\n"
   ]
  },
  {
   "cell_type": "code",
   "execution_count": 5,
   "id": "819bf7d7",
   "metadata": {},
   "outputs": [
    {
     "name": "stderr",
     "output_type": "stream",
     "text": [
      "25/04/14 10:25:57 WARN SparkSession: Using an existing Spark session; only runtime SQL configurations will take effect.\n"
     ]
    }
   ],
   "source": [
    "from pyspark.sql import SparkSession\n",
    "\n",
    "spark = SparkSession.builder.appName(\"Read Shell Fuel Prices JSON\").getOrCreate()"
   ]
  },
  {
   "cell_type": "code",
   "execution_count": 9,
   "id": "ccfe3f9e",
   "metadata": {},
   "outputs": [
    {
     "name": "stdout",
     "output_type": "stream",
     "text": [
      "+-------------------+--------------------+\n",
      "|       last_updated|            stations|\n",
      "+-------------------+--------------------+\n",
      "|13/04/2025 00:00:00|[{CARWIN RISE, SH...|\n",
      "+-------------------+--------------------+\n",
      "\n"
     ]
    }
   ],
   "source": [
    "from datetime import date\n",
    "# Get today's date\n",
    "today_str = date.today().isoformat()\n",
    "\n",
    "# File path\n",
    "json_path = f\"data/shell/shell_fuel_prices_{today_str}.json\"\n",
    "\n",
    "# Read JSON file\n",
    "df = spark.read.json(json_path)\n",
    "\n",
    "df.show()"
   ]
  },
  {
   "cell_type": "code",
   "execution_count": null,
   "id": "b185677b",
   "metadata": {},
   "outputs": [
    {
     "name": "stdout",
     "output_type": "stream",
     "text": [
      "+-------------------+------------+-----+--------------------+--------+---------+---------+-----+-----+\n",
      "|       last_updated|     site_id|brand|             address|postcode|      lat|      lon|   B7|  E10|\n",
      "+-------------------+------------+-----+--------------------+--------+---------+---------+-----+-----+\n",
      "|13/04/2025 00:00:00|gbujt4qe0k18|SHELL|         CARWIN RISE|TR27 5DG|50.198443|-5.396334|149.9|141.9|\n",
      "|13/04/2025 00:00:00|gbumu87qeccz|SHELL|       PLAYING PLACE| TR3 6HA|50.231992|-5.071057|143.9|138.9|\n",
      "|13/04/2025 00:00:00|gbumvnm9yuyg|SHELL|       TREGOLLS ROAD| TR1 1PU|50.264151|-5.045859|143.9|138.9|\n",
      "|13/04/2025 00:00:00|gbuqmtk5sfy5|SHELL|                 A30| TR8 5AY|50.346838|-5.026033|147.9|141.9|\n",
      "|13/04/2025 00:00:00|gbuqv45v3fzr|SHELL|         HENVER ROAD| TR7 3EH|50.417177|-5.048476|143.9|136.9|\n",
      "|13/04/2025 00:00:00|gbuqxe1kw2vj|SHELL|    KINGSLEY VILLAGE| TR9 6NA|50.378585|-4.941856|147.9|141.9|\n",
      "|13/04/2025 00:00:00|gbuwf7snkt92|SHELL|A30 VICTORIA JUNC...|PL26 8UF|50.425602| -4.81731|148.9|141.9|\n",
      "|13/04/2025 00:00:00|gbuyubqhznxw|SHELL|         Trerulefoot|PL12 5BL|50.407498|-4.353022|149.9|141.9|\n",
      "|13/04/2025 00:00:00|gbvqb9c8h0n5|SHELL|     A38 South Brent|TQ10 9ER|50.414887|-3.842975|143.9|139.9|\n",
      "|13/04/2025 00:00:00|gchc0smjtbrz|SHELL|      BENCOOLEN ROAD|EX23 8PL|50.825074|-4.541216|148.9|141.9|\n",
      "|13/04/2025 00:00:00|gcj07x5d4bv1|SHELL|       SOURTON CROSS|EX20 4LY|50.707745| -4.06001|148.9|138.9|\n",
      "|13/04/2025 00:00:00|gcj2pqrejg9v|SHELL|                 A38| EX6 7UD|50.659867|-3.538035|149.9|141.9|\n",
      "|13/04/2025 00:00:00|gcj82tb1ujd8|SHELL|    399 Topsham Road| EX2 6HD|50.700861|-3.493477|147.9|139.9|\n",
      "|13/04/2025 00:00:00|gcj96gpkvxw9|SHELL|            M5 JCT28|EX15 1NS|50.862062|-3.384574|145.9|139.9|\n",
      "|13/04/2025 00:00:00|gcj989f4zs17|SHELL|         EXETER ROAD|EX16 5DY|50.898779|-3.490582|145.9|139.9|\n",
      "|13/04/2025 00:00:00|gcjcbrg5mprv|SHELL|      M5 SOUTHBOUND,| TA3 7PF|50.975787|-3.148731|171.9|162.9|\n",
      "|13/04/2025 00:00:00|gcjcv0hnwsrr|SHELL|        Horton Cross|TA19 9PT|50.933757|-2.938554|145.9|139.9|\n",
      "|13/04/2025 00:00:00|gcjf02jz5ndb|SHELL|       M5 Northbound| TA3 7PF|50.977799|-3.145047|171.9|162.9|\n",
      "|13/04/2025 00:00:00|gcjg5fqduc4r|SHELL|      OLD WORKS ROAD| TA6 4BQ|51.165182|-2.990134|145.9|135.9|\n",
      "|13/04/2025 00:00:00|gcjgtt107cng|SHELL|   M5 SOUTH MOTORWAY|BS26 2UF|51.267749| -2.92082|171.9|162.9|\n",
      "+-------------------+------------+-----+--------------------+--------+---------+---------+-----+-----+\n",
      "only showing top 20 rows\n",
      "\n"
     ]
    }
   ],
   "source": [
    "from pyspark.sql import functions as F\n",
    "\n",
    "df_unpacked = df.select(\n",
    "    \"last_updated\",\n",
    "    F.explode(\"stations\").alias(\"stations\")\n",
    ").select(\n",
    "    F.col(\"last_updated\"),\n",
    "    F.col(\"stations\")[\"site_id\"].alias(\"site_id\"),\n",
    "    F.col(\"stations\")[\"brand\"].alias(\"brand\"),\n",
    "    F.col(\"stations\")[\"address\"].alias(\"address\"),\n",
    "    F.col(\"stations\")[\"postcode\"].alias(\"postcode\"),\n",
    "    F.col(\"stations\")[\"location\"][\"latitude\"].alias(\"lat\"),\n",
    "    F.col(\"stations\")[\"location\"][\"longitude\"].alias(\"lon\"),\n",
    "    F.col(\"stations\")[\"prices\"][\"B7\"].alias(\"B7\"),\n",
    "    F.col(\"stations\")[\"prices\"][\"E10\"].alias(\"E10\")\n",
    ")\n",
    "\n",
    "df_unpacked.show()"
   ]
  },
  {
   "cell_type": "code",
   "execution_count": 2,
   "id": "d6ac7bfd",
   "metadata": {},
   "outputs": [
    {
     "name": "stderr",
     "output_type": "stream",
     "text": [
      "25/04/14 10:20:53 WARN UDTRegistration: Cannot register UDT for org.geotools.coverage.grid.GridCoverage2D, which is already registered.\n",
      "25/04/14 10:20:53 WARN SimpleFunctionRegistry: The function rs_union_aggr replaced a previously registered function.\n",
      "25/04/14 10:20:53 WARN UDTRegistration: Cannot register UDT for org.locationtech.jts.geom.Geometry, which is already registered.\n",
      "25/04/14 10:20:53 WARN UDTRegistration: Cannot register UDT for org.apache.sedona.common.geometryObjects.Geography, which is already registered.\n",
      "25/04/14 10:20:53 WARN UDTRegistration: Cannot register UDT for org.locationtech.jts.index.SpatialIndex, which is already registered.\n",
      "25/04/14 10:20:53 WARN SimpleFunctionRegistry: The function st_envelope_aggr replaced a previously registered function.\n",
      "25/04/14 10:20:53 WARN SimpleFunctionRegistry: The function st_intersection_aggr replaced a previously registered function.\n",
      "25/04/14 10:20:53 WARN SimpleFunctionRegistry: The function st_union_aggr replaced a previously registered function.\n"
     ]
    }
   ],
   "source": [
    "from sedona.spark import *\n",
    "\n",
    "config = (\n",
    "    SedonaContext.builder()\n",
    "    .config(\n",
    "        \"spark.jars.packages\",\n",
    "        \"org.apache.sedona:sedona-spark-3.3_2.12:1.7.1,\"\n",
    "        \"org.datasyslab:geotools-wrapper:1.7.1-28.5\",\n",
    "    )\n",
    "    .config(\n",
    "        \"spark.jars.repositories\",\n",
    "        \"https://artifacts.unidata.ucar.edu/repository/unidata-all\",\n",
    "    )\n",
    "    .getOrCreate()\n",
    ")\n",
    "sedona = SedonaContext.create(config)\n",
    "sc = sedona.sparkContext"
   ]
  },
  {
   "cell_type": "code",
   "execution_count": null,
   "id": "ac3a9fce",
   "metadata": {},
   "outputs": [],
   "source": [
    "df_unpacked = df_unpacked.withColumn(\n",
    "    \"geom\",\n",
    "    F.expr(\"ST_Point(cast(lon as double), cast(lat as double))\")\n",
    ").withColumn(\"geom\", F.col(\"geom\").cast(GeometryType()))\n",
    "\n",
    "df_unpacked.show()"
   ]
  },
  {
   "cell_type": "code",
   "execution_count": 24,
   "id": "cd5c64fa",
   "metadata": {},
   "outputs": [
    {
     "name": "stdout",
     "output_type": "stream",
     "text": [
      "+------------+-----+--------+-----------------+--------+---------+--------------------+\n",
      "|site_id     |brand|postcode|address          |lat     |lon      |distance_meters     |\n",
      "+------------+-----+--------+-----------------+--------+---------+--------------------+\n",
      "|gcpv258c1pxf|SHELL|HA2 0EG |140 NORTHOLT ROAD|51.56729|-0.350479|0.031331816752302157|\n",
      "+------------+-----+--------+-----------------+--------+---------+--------------------+\n",
      "\n"
     ]
    }
   ],
   "source": [
    "from pyspark.sql import functions as F\n",
    "\n",
    "# Define input point (longitude, latitude)\n",
    "lon = -0.3346\n",
    "lat = 51.5943\n",
    "\n",
    "# Create a reference geometry point\n",
    "point_wkt = f\"POINT({lon} {lat})\"\n",
    "reference_point_df = spark.sql(f\"SELECT ST_GeomFromText('{point_wkt}') AS ref_geom\")\n",
    "reference_point = reference_point_df.first()['ref_geom']\n",
    "\n",
    "# Add distance column to df_geo using ST_Distance\n",
    "df_with_distance = df_unpacked.withColumn(\n",
    "    \"distance_meters\",\n",
    "    F.expr(f\"ST_Distance(geom, ST_GeomFromText('{point_wkt}'))\")\n",
    ")\n",
    "\n",
    "# Sort and get the closest\n",
    "closest_station = df_with_distance.orderBy(\"distance_meters\").limit(1)\n",
    "\n",
    "closest_station.select(\n",
    "    \"site_id\", \"brand\", \"postcode\", \"address\", \"lat\", \"lon\", \"distance_meters\"\n",
    ").show(truncate=False)\n"
   ]
  },
  {
   "cell_type": "code",
   "execution_count": null,
   "id": "36380f35",
   "metadata": {},
   "outputs": [],
   "source": []
  }
 ],
 "metadata": {
  "kernelspec": {
   "display_name": "Python 3",
   "language": "python",
   "name": "python3"
  },
  "language_info": {
   "codemirror_mode": {
    "name": "ipython",
    "version": 3
   },
   "file_extension": ".py",
   "mimetype": "text/x-python",
   "name": "python",
   "nbconvert_exporter": "python",
   "pygments_lexer": "ipython3",
   "version": "3.12.1"
  }
 },
 "nbformat": 4,
 "nbformat_minor": 5
}
